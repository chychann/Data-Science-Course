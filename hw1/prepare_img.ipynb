{
 "cells": [
  {
   "cell_type": "code",
   "execution_count": 2,
   "id": "56c9b9b9-3dbc-4709-b280-cc12ff58d7b0",
   "metadata": {},
   "outputs": [],
   "source": [
    "import os\n",
    "import tensorflow as tf\n",
    "import numpy as np\n",
    "import matplotlib.pyplot as plt"
   ]
  },
  {
   "cell_type": "code",
   "execution_count": 3,
   "id": "d8a68d91-2a46-4f2e-bb5d-c4bd42a56653",
   "metadata": {},
   "outputs": [],
   "source": [
    "import requests"
   ]
  },
  {
   "cell_type": "code",
   "execution_count": 4,
   "id": "6ac71939-55e0-46ea-bb3a-c67f329a9592",
   "metadata": {},
   "outputs": [],
   "source": [
    "from PIL import Image,ImageFile\n",
    "from io import BytesIO"
   ]
  },
  {
   "cell_type": "code",
   "execution_count": 5,
   "id": "7d0d996b-e18d-4039-b752-739c18a010e2",
   "metadata": {},
   "outputs": [],
   "source": [
    "from joblib import Parallel, delayed"
   ]
  },
  {
   "cell_type": "code",
   "execution_count": 6,
   "id": "a06ad096-2ccc-4848-ba29-5322f295f8b4",
   "metadata": {},
   "outputs": [],
   "source": [
    "import json"
   ]
  },
  {
   "cell_type": "code",
   "execution_count": 21,
   "id": "46df1d14-68a3-4278-b521-66a33807dd1f",
   "metadata": {},
   "outputs": [],
   "source": [
    "def download_img(url,name):\n",
    "    try:\n",
    "        path = f\"/Users/tsaiyichen/Desktop/Data Science Course/non_img_final/{name}.png\"\n",
    "        if \".gif\" in url:\n",
    "            return False\n",
    "        response = requests.get(url)\n",
    "        img = Image.open(BytesIO(response.content))\n",
    "        img = img.resize([299,299])\n",
    "        with open(path,'wb') as fw:\n",
    "            img.save(fw,'png')\n",
    "            \n",
    "        return True,url\n",
    "    except Exception as e:\n",
    "        print(e)\n",
    "        return False,str(e)"
   ]
  },
  {
   "cell_type": "code",
   "execution_count": 8,
   "id": "848bac3e-9c63-4f5a-ad4b-4c653abbb1e7",
   "metadata": {},
   "outputs": [],
   "source": [
    "url_pop = []"
   ]
  },
  {
   "cell_type": "code",
   "execution_count": 9,
   "id": "f265aaaf-190d-468b-b94a-7c3c913e52d9",
   "metadata": {
    "tags": []
   },
   "outputs": [],
   "source": [
    "f = open('2_popular_0101_1231.json')\n",
    "data = json.load(f)\n",
    "\n",
    "for i in data['image_urls']:\n",
    "    url_pop.append(i)\n",
    "f.close()"
   ]
  },
  {
   "cell_type": "code",
   "execution_count": 10,
   "id": "5bedc547-3608-4b3f-a69b-d2f073adb157",
   "metadata": {},
   "outputs": [
    {
     "data": {
      "text/plain": [
       "12885"
      ]
     },
     "execution_count": 10,
     "metadata": {},
     "output_type": "execute_result"
    }
   ],
   "source": [
    "len(url_pop)"
   ]
  },
  {
   "cell_type": "code",
   "execution_count": 13,
   "id": "470192b2-e436-4f62-ac9e-c8ab2904843b",
   "metadata": {
    "tags": []
   },
   "outputs": [],
   "source": [
    "r = Parallel(n_jobs=8)(delayed(download_img)(url_pop[i],'n'+str(i))for i in range(0,5000))"
   ]
  },
  {
   "cell_type": "code",
   "execution_count": 15,
   "id": "5a44278e-d760-45ed-96bb-804ad718c89e",
   "metadata": {},
   "outputs": [],
   "source": [
    "url_non = []\n",
    "f = open('2_non_popular_0101_1231.json')\n",
    "data = json.load(f)\n",
    "\n",
    "for i in data['image_urls']:\n",
    "    url_non.append(i)\n",
    "f.close()"
   ]
  },
  {
   "cell_type": "code",
   "execution_count": 18,
   "id": "4fe19d98-41b7-422f-b76c-887c7a0119cd",
   "metadata": {},
   "outputs": [],
   "source": [
    "url_non_ =[]\n",
    "for i in url_non:\n",
    "    if '.gif' not in i:\n",
    "        url_non_.append(i)"
   ]
  },
  {
   "cell_type": "code",
   "execution_count": 19,
   "id": "a013b946-983a-4cd0-ad48-cfdeafcf885a",
   "metadata": {},
   "outputs": [
    {
     "data": {
      "text/plain": [
       "39392"
      ]
     },
     "execution_count": 19,
     "metadata": {},
     "output_type": "execute_result"
    }
   ],
   "source": [
    "len(url_non_)"
   ]
  },
  {
   "cell_type": "code",
   "execution_count": 23,
   "id": "9c855def-8a9d-43dd-b863-ad18b518a13d",
   "metadata": {},
   "outputs": [],
   "source": [
    "r = Parallel(n_jobs=8)(delayed(download_img)(url_non[i],'n'+str(i))for i in range(3000,6000))"
   ]
  },
  {
   "cell_type": "code",
   "execution_count": null,
   "id": "49bdfb74-d17f-42bb-b39b-49f689a8a8d5",
   "metadata": {},
   "outputs": [],
   "source": []
  }
 ],
 "metadata": {
  "kernelspec": {
   "display_name": "tf",
   "language": "python",
   "name": "tf"
  },
  "language_info": {
   "codemirror_mode": {
    "name": "ipython",
    "version": 3
   },
   "file_extension": ".py",
   "mimetype": "text/x-python",
   "name": "python",
   "nbconvert_exporter": "python",
   "pygments_lexer": "ipython3",
   "version": "3.8.9"
  }
 },
 "nbformat": 4,
 "nbformat_minor": 5
}
